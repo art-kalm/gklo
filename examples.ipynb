{
 "cells": [
  {
   "cell_type": "markdown",
   "id": "277c1844-49dc-4a12-974b-5c27a6164622",
   "metadata": {},
   "source": [
    "# Difference Operators and GKLO representation: tutorial"
   ]
  },
  {
   "cell_type": "markdown",
   "id": "4b7ae3e6-10ac-4060-8634-193fe9583648",
   "metadata": {},
   "source": [
    "This is a tutorial to `gklo` package. It realizes a localized algebra of difference operators and the corresponding representation of (quiver) truncated shifted Yangians in their GKLO representation, see [BFN2019] as main reference, also [KWWY2014] and [GKLO2005]. For Lax matrices, see [FPT2022]."
   ]
  },
  {
   "cell_type": "markdown",
   "id": "1ccc965f-8c6f-49b9-9dd9-434703e74917",
   "metadata": {},
   "source": [
    "First, let us import everything:"
   ]
  },
  {
   "cell_type": "code",
   "execution_count": 1,
   "id": "9ffa75a9-29b3-4ff8-90e1-0eebd8e9a169",
   "metadata": {},
   "outputs": [],
   "source": [
    "from gklo import *\n",
    "from difference_operators import DifferenceOperators"
   ]
  },
  {
   "cell_type": "markdown",
   "id": "cedbd5d5-b1c3-47e6-a5ca-3598a18a4aab",
   "metadata": {},
   "source": [
    "For correct running of this notebook, we also need to import `SageMath` libraries (it will *not* be necessary in `sage` environment itself)"
   ]
  },
  {
   "cell_type": "code",
   "execution_count": 2,
   "id": "29137725-6bc5-4bc0-9c23-d3f64bf7976b",
   "metadata": {},
   "outputs": [],
   "source": [
    "from sage.rings.rational_field import QQ\n",
    "from sage.rings.polynomial.polynomial_ring_constructor import PolynomialRing\n",
    "from sage.rings.polynomial.polynomial_element import Polynomial"
   ]
  },
  {
   "cell_type": "markdown",
   "id": "a2d695f6-1b2a-4b8f-a772-0170aca36b04",
   "metadata": {},
   "source": [
    "Let us look how a general algebra of difference operators $\\tilde{\\mathcal{A}}_{\\hbar}$ looks like. Mathematically, let $R$ be a base ring and $I$ be some index set. Define\n",
    "\n",
    "$F = R(x_1, \\ldots, x_l, p_{i_1}, \\ldots, p_{i_k}),\\ I = \\{ i_1, \\ldots, i_k\\},$\n",
    "\n",
    "where $l$ is some number. We call $\\{x_1, \\ldots, x_l\\}$ the *additional* (or *spectral*) variables and $\\{p_i | i \\in I\\}$ the *functional* variables. Then \n",
    "\n",
    "$\\tilde{\\mathcal{A}}_{\\hbar} = F[\\mathbf{u}_{i_1}^{\\pm}, \\ldots, \\mathbf{u}_{i_k}^{\\pm}]$,\n",
    "\n",
    "as a *left* module over $F$ with the only non-trivial relation\n",
    "\n",
    "$\\mathbf{u}_{i_a}^{\\pm}  \\cdot f(x_1, \\ldots, x_l, p_{i_1}, \\ldots, p_{i_a}, \\ldots, p_{i_k}) = f(x_1, \\ldots, x_l, p_{i_1}, \\ldots, p_{i_a} \\pm \\hbar, \\ldots, p_{i_k}) \\cdot \\mathbf{u}_{i_a}^{\\pm}$\n",
    "\n",
    "In `SageMath`, it is realized by `DifferenceOperators` whose input is:\n",
    "<ul>\n",
    "    <li> <b> base_ring </b> -- the ring $R$. For all the purposes of [BFN2018], either rational field <b>QQ</b> for non-formal $\\hbar$ or <b>PolynomialRing(QQ, 'h').fraction_field()</b> for formal one is sufficient, see examples below. </li>\n",
    "    <li> <b> I </b> -- the index set of functional variables $I$. </li>\n",
    "    <li> <b> shift </b> -- the parameter $\\hbar$  </li>\n",
    "    <li> <b> variable_prefix</b> -- (default : <b>p</b>) prefix of functional variables, corresponds to $p$ in the definition above </li>\n",
    "    <li> <b> difference_operator_prefix</b> -- (default : <b>u</b>) prefix of difference operators, corresponds to $\\mathbf{u}$ in the definition above </li>\n",
    "    <li> <b> additional_variables </b> -- (default : <b>()</b>) list of additional variables, empty by default </li>\n",
    "</ul>\n",
    "\n",
    "Examples:"
   ]
  },
  {
   "cell_type": "code",
   "execution_count": 3,
   "id": "c3589364-08c1-4d88-8e13-6543f7942798",
   "metadata": {},
   "outputs": [
    {
     "name": "stderr",
     "output_type": "stream",
     "text": [
      "/Users/art_kalm/sage/src/sage/categories/category.py:2063: UserWarning: Resolving lazy import FinitelyGeneratedSemigroups during startup\n",
      "  axiom_attribute = getattr(self.__class__, axiom, None)\n",
      "/Users/art_kalm/sage/src/sage/categories/category.py:2063: UserWarning: Resolving lazy import FinitelyGeneratedMagmas during startup\n",
      "  axiom_attribute = getattr(self.__class__, axiom, None)\n"
     ]
    },
    {
     "data": {
      "text/plain": [
       "Localized algebra of difference operators over Fraction Field of Multivariate Polynomial Ring in p_0, p_1, p_2, p_3 over Rational Field with shift parameter 1 in functional variables (p_0, p_1, p_2, p_3), difference operators (u_0, u_1, u_2, u_3), and spectral variables ()"
      ]
     },
     "execution_count": 3,
     "metadata": {},
     "output_type": "execute_result"
    }
   ],
   "source": [
    "I0 = [0, 1, 2, 3]\n",
    "D0 = DifferenceOperators(base_ring=QQ, I=I0); D0"
   ]
  },
  {
   "cell_type": "code",
   "execution_count": 4,
   "id": "a874face-f56b-4493-910b-104532acf38e",
   "metadata": {},
   "outputs": [
    {
     "data": {
      "text/plain": [
       "Localized algebra of difference operators over Fraction Field of Multivariate Polynomial Ring in p_0, p_1, p_2, p_3 over Fraction Field of Univariate Polynomial Ring in h over Rational Field with shift parameter h in functional variables (p_0, p_1, p_2, p_3), difference operators (u_0, u_1, u_2, u_3), and spectral variables ()"
      ]
     },
     "execution_count": 4,
     "metadata": {},
     "output_type": "execute_result"
    }
   ],
   "source": [
    "R = PolynomialRing(QQ, 'h').fraction_field() # Set the base ring for formal parameter \\hbar\n",
    "h = R.gen() # This is \\hbar itself\n",
    "I1 = [0, 1, 2, 3]\n",
    "D1 = DifferenceOperators(base_ring=R, I=I1, shift=h); D1"
   ]
  },
  {
   "cell_type": "markdown",
   "id": "2c9b789a-f719-4e05-bd51-b28dfe896223",
   "metadata": {},
   "source": [
    "One ring can be obtained from different inputs:"
   ]
  },
  {
   "cell_type": "code",
   "execution_count": 5,
   "id": "33f1aa86-4cde-435d-a181-ebc250ef2e65",
   "metadata": {},
   "outputs": [
    {
     "data": {
      "text/plain": [
       "True"
      ]
     },
     "execution_count": 5,
     "metadata": {},
     "output_type": "execute_result"
    }
   ],
   "source": [
    "I0_0 = range(4)\n",
    "D0_0 = DifferenceOperators(QQ, I0_0)\n",
    "D0_0 is D0"
   ]
  },
  {
   "cell_type": "markdown",
   "id": "c7f6178c-1c34-4f26-8349-cd688ad7a026",
   "metadata": {},
   "source": [
    "For now, let us work with `D0`. Let us introduce functional variables:"
   ]
  },
  {
   "cell_type": "code",
   "execution_count": 6,
   "id": "53c5b933-126b-4477-9d3f-aa2ec0de48b4",
   "metadata": {},
   "outputs": [
    {
     "data": {
      "text/plain": [
       "Finite family {0: p_0, 1: p_1, 2: p_2, 3: p_3}"
      ]
     },
     "execution_count": 6,
     "metadata": {},
     "output_type": "execute_result"
    }
   ],
   "source": [
    "p = D0.functional_variables(); p"
   ]
  },
  {
   "cell_type": "markdown",
   "id": "ff53e170-be70-49d5-86ad-ceeaa8e4b33e",
   "metadata": {},
   "source": [
    "and the corresponding difference operators:"
   ]
  },
  {
   "cell_type": "code",
   "execution_count": 7,
   "id": "05d80cb5-f0c4-4c77-ac21-b20d6d28e8ae",
   "metadata": {},
   "outputs": [
    {
     "data": {
      "text/plain": [
       "Finite family {0: u_0, 1: u_1, 2: u_2, 3: u_3}"
      ]
     },
     "execution_count": 7,
     "metadata": {},
     "output_type": "execute_result"
    }
   ],
   "source": [
    "u = D0.difference_operators(); u"
   ]
  },
  {
   "cell_type": "markdown",
   "id": "c03a82d3-ec14-44dc-9293-1a8342afffc3",
   "metadata": {},
   "source": [
    "Let us check some relations:"
   ]
  },
  {
   "cell_type": "code",
   "execution_count": 8,
   "id": "efc46525-159a-4776-a833-6914781566bc",
   "metadata": {},
   "outputs": [
    {
     "name": "stdout",
     "output_type": "stream",
     "text": [
      "x = p_0*u_0, y = (p_0+1)*u_0, z = (p_0-1)*u_0^-1\n"
     ]
    },
    {
     "name": "stderr",
     "output_type": "stream",
     "text": [
      "/Users/art_kalm/sage/src/sage/categories/pushout.py:1017: UserWarning: Resolving lazy import Rings during startup\n",
      "  Functor.__init__(self, Rings(), Rings())\n"
     ]
    }
   ],
   "source": [
    "x = p[0]*u[0]\n",
    "y = u[0]*p[0]\n",
    "z = u[0]**(-1)*p[0]\n",
    "print(\"x = {}, y = {}, z = {}\".format(x, y, z))"
   ]
  },
  {
   "cell_type": "markdown",
   "id": "ceb33b48-c0c4-4cd2-8526-4e828628d9fe",
   "metadata": {},
   "source": [
    "At least for index `0`, it works correctly! As we see, all functions are to the left of the difference operators. Let us check some other indices:"
   ]
  },
  {
   "cell_type": "code",
   "execution_count": 9,
   "id": "eaf186ce-769a-4091-bd0c-6eabf16d3f17",
   "metadata": {},
   "outputs": [
    {
     "name": "stdout",
     "output_type": "stream",
     "text": [
      "x = p_1*u_0\n",
      "y = p_1*u_0\n",
      "Is `x` equal to `y`? True\n"
     ]
    }
   ],
   "source": [
    "x = p[1]*u[0]; print(\"x = {}\".format(x))\n",
    "y = u[0]*p[1]; print(\"y = {}\".format(y))\n",
    "print(\"Is `x` equal to `y`? {}\".format(x == y))"
   ]
  },
  {
   "cell_type": "markdown",
   "id": "14af2c62-c307-4665-bf2d-17c3032aad84",
   "metadata": {},
   "source": [
    "As it should, `p[1]` commutes with `u[0]`."
   ]
  },
  {
   "cell_type": "markdown",
   "id": "4efe2298-6446-4422-9eab-aad3be91680f",
   "metadata": {},
   "source": [
    "We can use more complicated functions:"
   ]
  },
  {
   "cell_type": "code",
   "execution_count": 10,
   "id": "5c83feb9-44dd-4cdc-a400-13bee70dac6b",
   "metadata": {},
   "outputs": [
    {
     "name": "stdout",
     "output_type": "stream",
     "text": [
      "x = (1/(p_0-p_1+1))*u_0\n",
      "y = (1/(p_0-p_1-1))*u_1\n",
      "z = (1/(p_0-p_1))*u_0*u_1\n"
     ]
    }
   ],
   "source": [
    "f = 1/(p[0]-p[1])\n",
    "x = u[0]*f; print(\"x = {}\".format(x))\n",
    "y = u[1]*f; print(\"y = {}\".format(y))\n",
    "z = u[0]*u[1]*f; print(\"z = {}\".format(z))"
   ]
  },
  {
   "cell_type": "markdown",
   "id": "e9720c80-928b-4a91-8fcc-b029707bcb31",
   "metadata": {},
   "source": [
    "Let us check the asymptotic version:"
   ]
  },
  {
   "cell_type": "code",
   "execution_count": 11,
   "id": "27c167bc-7f32-4fc5-83c1-c9fe80294bf9",
   "metadata": {},
   "outputs": [
    {
     "data": {
      "text/plain": [
       "Finite family {0: p_0, 1: p_1, 2: p_2, 3: p_3}"
      ]
     },
     "execution_count": 11,
     "metadata": {},
     "output_type": "execute_result"
    }
   ],
   "source": [
    "p = D1.functional_variables(); p"
   ]
  },
  {
   "cell_type": "code",
   "execution_count": 12,
   "id": "353a44bb-9822-4e74-924e-ea05c62947fb",
   "metadata": {},
   "outputs": [
    {
     "data": {
      "text/plain": [
       "Finite family {0: u_0, 1: u_1, 2: u_2, 3: u_3}"
      ]
     },
     "execution_count": 12,
     "metadata": {},
     "output_type": "execute_result"
    }
   ],
   "source": [
    "u = D1.difference_operators(); u"
   ]
  },
  {
   "cell_type": "code",
   "execution_count": 13,
   "id": "9eddd403-08c9-4e4e-981a-16860d0626d2",
   "metadata": {},
   "outputs": [
    {
     "name": "stdout",
     "output_type": "stream",
     "text": [
      "x = p_0*u_0\n",
      "y = (p_0+h)*u_0\n",
      "z = (p_0+(-h))*u_0^-1\n"
     ]
    }
   ],
   "source": [
    "x = p[0]*u[0]; print(\"x = {}\".format(x))\n",
    "y = u[0]*p[0]; print(\"y = {}\".format(y))\n",
    "z = u[0]**(-1)*p[0]; print(\"z = {}\".format(z))"
   ]
  },
  {
   "cell_type": "markdown",
   "id": "f39c0797-8cd2-49de-b2c2-9a67774f483f",
   "metadata": {},
   "source": [
    "The formating is a bit weird, but it works!"
   ]
  },
  {
   "cell_type": "markdown",
   "id": "df56594e-2283-4f9b-a24b-31b3ca96e8bb",
   "metadata": {},
   "source": [
    "With truncated shifted Yangians, we will be mostly dealing with other types of indices and spectral variables:"
   ]
  },
  {
   "cell_type": "code",
   "execution_count": 14,
   "id": "937a9241-2fe2-4507-8045-c22aee79a8f0",
   "metadata": {},
   "outputs": [
    {
     "data": {
      "text/plain": [
       "[(0, 0), (0, 1), (0, 2), (1, 0), (1, 1), (1, 2)]"
      ]
     },
     "execution_count": 14,
     "metadata": {},
     "output_type": "execute_result"
    }
   ],
   "source": [
    "I2 = [(i, j) for i in range(2) for j in range(3)]; I2"
   ]
  },
  {
   "cell_type": "code",
   "execution_count": 15,
   "id": "60734573-128d-49d4-af25-6d489230e4ca",
   "metadata": {},
   "outputs": [
    {
     "data": {
      "text/plain": [
       "Localized algebra of difference operators over Fraction Field of Multivariate Polynomial Ring in t, p_0_0, p_0_1, p_0_2, p_1_0, p_1_1, p_1_2 over Fraction Field of Univariate Polynomial Ring in h over Rational Field with shift parameter h in functional variables (p_0_0, p_0_1, p_0_2, p_1_0, p_1_1, p_1_2), difference operators (u_0_0, u_0_1, u_0_2, u_1_0, u_1_1, u_1_2), and spectral variables ('t',)"
      ]
     },
     "execution_count": 15,
     "metadata": {},
     "output_type": "execute_result"
    }
   ],
   "source": [
    "D2 = DifferenceOperators(base_ring=R, I=I2, shift=h, additional_variables='t')\n",
    "D2"
   ]
  },
  {
   "cell_type": "markdown",
   "id": "a92c4007-996f-46e3-b6a0-1f9c044281d8",
   "metadata": {},
   "source": [
    "To access spectral variables, we can use the following:"
   ]
  },
  {
   "cell_type": "code",
   "execution_count": 16,
   "id": "9aad7b14-1a7c-4d6a-93fd-3aea0570bf68",
   "metadata": {},
   "outputs": [
    {
     "data": {
      "text/plain": [
       "t"
      ]
     },
     "execution_count": 16,
     "metadata": {},
     "output_type": "execute_result"
    }
   ],
   "source": [
    "t = D2.additional_variables()[0]; t"
   ]
  },
  {
   "cell_type": "markdown",
   "id": "f1cf455f-5e2b-41bb-9cc5-197ad35e3be6",
   "metadata": {},
   "source": [
    "Let us check that it commutes with difference operators:"
   ]
  },
  {
   "cell_type": "code",
   "execution_count": 17,
   "id": "c8b4366c-7f9e-48a5-a401-df6d75ce6e08",
   "metadata": {},
   "outputs": [
    {
     "data": {
      "text/plain": [
       "Finite family {(0, 0): u_0_0,  (0, 1): u_0_1,  (0, 2): u_0_2,  (1, 0): u_1_0,  (1, 1): u_1_1,  (1, 2): u_1_2}"
      ]
     },
     "execution_count": 17,
     "metadata": {},
     "output_type": "execute_result"
    }
   ],
   "source": [
    "p = D2.functional_variables()\n",
    "u = D2.difference_operators(); u"
   ]
  },
  {
   "cell_type": "code",
   "execution_count": 18,
   "id": "b9d0a906-3517-40ee-8ce2-d905531a3449",
   "metadata": {},
   "outputs": [
    {
     "data": {
      "text/plain": [
       "True"
      ]
     },
     "execution_count": 18,
     "metadata": {},
     "output_type": "execute_result"
    }
   ],
   "source": [
    "t*u[0,1] == u[0,1]*t"
   ]
  },
  {
   "cell_type": "code",
   "execution_count": 19,
   "id": "40a8c818-c555-4fdd-80fe-fd89f85a82c8",
   "metadata": {},
   "outputs": [
    {
     "data": {
      "text/plain": [
       "(1/(-t+p_0_1+p_1_2+h))*u_1_2"
      ]
     },
     "execution_count": 19,
     "metadata": {},
     "output_type": "execute_result"
    }
   ],
   "source": [
    "f = 1/(p[1,2] + p[0,1] - t)\n",
    "u[1,2]*f"
   ]
  },
  {
   "cell_type": "markdown",
   "id": "a7472d15-a85d-46d7-acc8-19d62b869250",
   "metadata": {},
   "source": [
    "Ok, `DifferenceOperators` seems to work (if it does not, please email me!). Let us get to the GKLO representation. It is based on A(ii) of [BFN2018] realizing the Coulomb branch of a quiver gauge theory inside a certain algebra of difference operators. Namely, let $Q = (Q_0, Q_1)$ be a quiver with vertices $Q_0$, that we numerate as $Q_0 = \\{0, 1, \\ldots, l-1\\}$ and call $l=rk$ the *rank*, and arrows $Q1$. Let $\\mathrm{v} = (v_0, \\ldots, v_{rk-1})$ be a dimension vector and $\\mathbf{w} = (w_0, \\ldots, w_{rk-1})$ be the framing dimension vector. To this data, we assign the gauge group\n",
    "\n",
    "$GL(V) := \\prod_{i=0}^{rk-1} GL(\\mathbb{C}^{v_i})$\n",
    "\n",
    "and the representation\n",
    "\n",
    "$\\mathbf{N} = \\bigoplus_{h \\in Q_1} Hom(\\mathbb{C}^{v_{o(h)}}, \\mathbb{C}^{v_{i(h)}}) \\oplus \\bigoplus_{i \\in Q_0} Hom(\\mathbb{C}^{w_i}, \\mathbb{C}^{v_i})$,\n",
    "\n",
    "where each arrow $h$ is represented as $i(h) \\rightarrow o(h)$. Then [BFN2018] define the associated Coulomb branch $\\mathcal{A}_{\\hbar}$ with a homomorphism inside the localized algebra of difference operators $\\tilde{\\mathcal{A}}_{\\hbar}$ with functional variables $p_{i,j}$ and associated difference operators $\\mathbf{u}_{i,j}$ for $i = 0, \\ldots, rk-1$ and $j = 0, \\ldots, v_i - 1$. \n",
    "\n",
    "We realize it by `QuiverGKLO` with the following input:\n",
    "\n",
    "<ul>\n",
    "    <li> <b>base_ring</b> : base ring of $\\tilde{\\mathcal{A}}_{\\hbar}$. <b> NOTE: </b> as opposed to difference operators, the base ring is the *same* for asymptotic and non-asymptotic versions. For all the purposes of [BFN2018], rational field <b>QQ</b> is sufficient (again, even for parameter $\\hbar$)</li>\n",
    "    <li> <b>v</b> : dimension vector. Any iterable type (`list`, `tuple`, etc.) would do the job, see examples </li>\n",
    "    <li> <b>w</b> : framing dimension vector. Any iterable type (`list`, `tuple`, etc.) would do the job, see examples </li>\n",
    "    <li> <b>Q1</b> : arrows of the quiver.\n",
    "        There are two possible types of input:\n",
    "        <ul>\n",
    "            <li> `dict` : dictionary whose key is an vertex $a \\in Q_0$ and the corresponding value is the `list` of vertices $[b_1, \\ldots, b_m]$ for all possible $h \\in Q_1$ such that $i(h) = a$ and $o(h) = b_i$. For instance, for A3 Dynkin quiver, a possible choice is `{0: [1], 1: [2]}`, and for D4 `{0: [1], 1: [2, 3]}`. </li> \n",
    "            <li> `list` : a list of pairs `(i(h), o(h))` for each $h \\in Q_1$. For instance, for A3 it would be `[(0, 1), (1, 2)]`, and for D4 we can choose `[(0, 1), (1, 2), (1, 3)]`. </li>\n",
    "        <ul>\n",
    "    </li>\n",
    "    <li><b> spectral_vars</b> -- (default : <b> 't' </b>) a list of spectral variables, they correspond to *additional variables* in `DifferenceOperators`. For instance, used to define currents of Theorem B.15 in [BFN2018]. <b> NOTE: </b> at least one spectral variable is necessary. </li>\n",
    "    <li> <b> asymptotic</b> : <b style=\"color:#ff3399\">bool</b> -- (default : <b>False</b>) if `True`, then constructions will involve a formal parameter <b>h</b>. The corresponding quantization parameter is $\\hbar = k \\cdot h$, where $k$ is the parameter <b>hbar_multiple</b> (see below), and $h = 1$ if <b>asymptotic</b>=`False` otherwise it is a formal parameter <b> h</b> </li>\n",
    "    <li><b>hbar_multiple</b> -- (default : <b>1</b>) multiple of quantization parameter. Sometimes, it is convenient to set it to 2</li>\n",
    "    <li><b>var_prefix</b> -- (default : <b>p</b>) prefix of functional variables </li>\n",
    "    <li><b>diff_prefix</b> -- (default : <b>u</b>) prefix of difference operators </li>\n",
    "</ul>"
   ]
  },
  {
   "cell_type": "markdown",
   "id": "e5c7e655-999f-40ac-9675-f3e41e610906",
   "metadata": {},
   "source": [
    "Let us see how it works. The following is a gauge theory implementation of the truncated shifted Yangian $Y^{\\lambda}_{\\mu}(\\mathfrak{sl}_4)$ with $\\lambda = \\omega_2$ and $\\mu = w_0 \\lambda$:"
   ]
  },
  {
   "cell_type": "code",
   "execution_count": 20,
   "id": "4318d479-33a7-4c7f-a181-0ab659528f7c",
   "metadata": {},
   "outputs": [],
   "source": [
    "G0 = QuiverGKLO(base_ring=QQ, v=(1,2,1), w=(0,1,0), Q1={0: [1], 1: [2]})"
   ]
  },
  {
   "cell_type": "markdown",
   "id": "d48cd745-6838-4c8c-92ae-b9a6eaa14711",
   "metadata": {},
   "source": [
    "The following is functional variables:"
   ]
  },
  {
   "cell_type": "code",
   "execution_count": 21,
   "id": "70cb6884-db90-4b6f-9f6c-3fad164312fc",
   "metadata": {},
   "outputs": [
    {
     "data": {
      "text/plain": [
       "Finite family {(0, 0): p_0_0, (1, 0): p_1_0, (1, 1): p_1_1, (2, 0): p_2_0}"
      ]
     },
     "execution_count": 21,
     "metadata": {},
     "output_type": "execute_result"
    }
   ],
   "source": [
    "p = G0.functional_variables(); p"
   ]
  },
  {
   "cell_type": "markdown",
   "id": "a3a7745b-d454-49da-ace3-e6693da4210f",
   "metadata": {},
   "source": [
    "and the corresponding difference operators:"
   ]
  },
  {
   "cell_type": "code",
   "execution_count": 22,
   "id": "58b2c8e2-7dcb-4bdf-8ed2-e2215da41191",
   "metadata": {},
   "outputs": [
    {
     "data": {
      "text/plain": [
       "Finite family {(0, 0): u_0_0, (1, 0): u_1_0, (1, 1): u_1_1, (2, 0): u_2_0}"
      ]
     },
     "execution_count": 22,
     "metadata": {},
     "output_type": "execute_result"
    }
   ],
   "source": [
    "u = G0.difference_operators(); u"
   ]
  },
  {
   "cell_type": "markdown",
   "id": "3ad8224f-5290-4300-8b4d-40c337fd8624",
   "metadata": {},
   "source": [
    "Sanity check:"
   ]
  },
  {
   "cell_type": "code",
   "execution_count": 23,
   "id": "f835743d-6bad-491b-a196-1947657d5b77",
   "metadata": {},
   "outputs": [
    {
     "name": "stdout",
     "output_type": "stream",
     "text": [
      "u_0_0\n",
      "0\n"
     ]
    }
   ],
   "source": [
    "print(u[0,0]*p[0,0] - p[0,0]*u[0,0])\n",
    "print(u[0,0]*p[1,1] - p[1,1]*u[0,0])"
   ]
  },
  {
   "cell_type": "markdown",
   "id": "45f47fb6-7739-4af6-903a-ef4293bfcace",
   "metadata": {},
   "source": [
    "Ok, this seems to be difference operators. Let us check some direct generalizations of the current from Theorem B.15 of [BFN2018]."
   ]
  },
  {
   "cell_type": "markdown",
   "id": "b593cf9e-d529-4afb-965d-7975dac543f8",
   "metadata": {},
   "source": [
    "Beforehand, let us introduce the spectral variable:"
   ]
  },
  {
   "cell_type": "code",
   "execution_count": 24,
   "id": "1d1a5207-89e5-403c-b0f4-c0ffe83243e1",
   "metadata": {},
   "outputs": [
    {
     "data": {
      "text/plain": [
       "t"
      ]
     },
     "execution_count": 24,
     "metadata": {},
     "output_type": "execute_result"
    }
   ],
   "source": [
    "t = G0.spectral_variables()[0]; t"
   ]
  },
  {
   "cell_type": "markdown",
   "id": "12ba1cdf-ba52-4222-a9fb-952cb94eb8c6",
   "metadata": {},
   "source": [
    "Consider the current $A_1(t)$. By default, all constructions involving current will depend by default on the first spectral variables in <b>spectral_vars</b>."
   ]
  },
  {
   "cell_type": "code",
   "execution_count": 25,
   "id": "520684e3-d4a5-47a3-b8d7-ae4d6429a388",
   "metadata": {},
   "outputs": [
    {
     "data": {
      "text/plain": [
       "(t^2 - t*p_1_0 - t*p_1_1 + p_1_0*p_1_1)/t^2"
      ]
     },
     "execution_count": 25,
     "metadata": {},
     "output_type": "execute_result"
    }
   ],
   "source": [
    "A = G0.A(1); A"
   ]
  },
  {
   "cell_type": "markdown",
   "id": "77bdbb13-6ba4-4783-8d0c-83e38232a72a",
   "metadata": {},
   "source": [
    "Sometimes, we need to substitute $t$ for something. Here is how it can be done:"
   ]
  },
  {
   "cell_type": "code",
   "execution_count": 26,
   "id": "63109bab-0ead-48d4-9088-f08e364dc785",
   "metadata": {},
   "outputs": [
    {
     "data": {
      "text/plain": [
       "(p_0_0^2 - p_0_0*p_1_0 - p_0_0*p_1_1 + p_1_0*p_1_1)/p_0_0^2"
      ]
     },
     "execution_count": 26,
     "metadata": {},
     "output_type": "execute_result"
    }
   ],
   "source": [
    "A(t=p[0,0])"
   ]
  },
  {
   "cell_type": "markdown",
   "id": "d664f97f-8393-4862-8ef0-c4a6c835b5a5",
   "metadata": {},
   "source": [
    "Let us check that it has zero at $t=p_{1,0}$:"
   ]
  },
  {
   "cell_type": "code",
   "execution_count": 27,
   "id": "513ff699-901a-499c-a2c8-cc280ce4b5ff",
   "metadata": {},
   "outputs": [
    {
     "data": {
      "text/plain": [
       "0"
      ]
     },
     "execution_count": 27,
     "metadata": {},
     "output_type": "execute_result"
    }
   ],
   "source": [
    "A(t=p[1,0])"
   ]
  },
  {
   "cell_type": "markdown",
   "id": "fe73c8af-a20d-46c2-99d1-ee70ea4ab3f2",
   "metadata": {},
   "source": [
    "Perfect! Here are other $A$-currents:"
   ]
  },
  {
   "cell_type": "code",
   "execution_count": 28,
   "id": "874629a0-cb58-4e86-a7f5-b57bf6d5294a",
   "metadata": {},
   "outputs": [
    {
     "name": "stdout",
     "output_type": "stream",
     "text": [
      "A_1(t) = (t^2 - t*p_1_0 - t*p_1_1 + p_1_0*p_1_1)/t^2\n",
      "A_2(t) = (t - p_2_0)/t\n"
     ]
    }
   ],
   "source": [
    "print(\"A_1(t) = {}\".format(G0.A(1)))\n",
    "print(\"A_2(t) = {}\".format(G0.A(2)))"
   ]
  },
  {
   "cell_type": "markdown",
   "id": "591c4838-6c82-473b-baef-57da7ebfd599",
   "metadata": {},
   "source": [
    "To access its modes that we define by \n",
    "\n",
    "$A_i(t) = \\sum_{k\\geq 0} A_i^{(k)} t^{-k}$,\n",
    "\n",
    "we can simply add a second argument corresponding to the mode:"
   ]
  },
  {
   "cell_type": "code",
   "execution_count": 29,
   "id": "425db739-9128-407a-910c-dc77dabf7628",
   "metadata": {},
   "outputs": [
    {
     "data": {
      "text/plain": [
       "-p_1_0 - p_1_1"
      ]
     },
     "execution_count": 29,
     "metadata": {},
     "output_type": "execute_result"
    }
   ],
   "source": [
    "G0.A(1,1)"
   ]
  },
  {
   "cell_type": "code",
   "execution_count": 30,
   "id": "65bd3c27-09cb-4708-9c52-af9890f8d8c4",
   "metadata": {},
   "outputs": [
    {
     "data": {
      "text/plain": [
       "1"
      ]
     },
     "execution_count": 30,
     "metadata": {},
     "output_type": "execute_result"
    }
   ],
   "source": [
    "G0.A(1,0)"
   ]
  },
  {
   "cell_type": "markdown",
   "id": "b95b2bcb-25d0-4a17-abea-b644ae100ae7",
   "metadata": {},
   "source": [
    "and, in general, "
   ]
  },
  {
   "cell_type": "code",
   "execution_count": 31,
   "id": "f89b843e-341d-49f8-9621-83ca04a3f54b",
   "metadata": {},
   "outputs": [
    {
     "data": {
      "text/plain": [
       "True"
      ]
     },
     "execution_count": 31,
     "metadata": {},
     "output_type": "execute_result"
    }
   ],
   "source": [
    "G0.A(1) == G0.A(1,0) + G0.A(1,1)*t**(-1) + G0.A(1,2)*t**(-2)"
   ]
  },
  {
   "cell_type": "markdown",
   "id": "0d0d757c-5e41-434a-914b-decb39aadfe3",
   "metadata": {},
   "source": [
    "Currents $A_i(t)$ are defined in terms of \n",
    "\n",
    "$H_i(t) = \\sum_{k \\in \\mathbb{Z}} H_i^{(k)} t^{-k}$ \n",
    "\n",
    "from (B.14) (or vice versa). We can use them instead:"
   ]
  },
  {
   "cell_type": "code",
   "execution_count": 32,
   "id": "38e59a2c-fc13-4a89-a56e-8a140ec0d9c5",
   "metadata": {},
   "outputs": [
    {
     "data": {
      "text/plain": [
       "(t^2 - t*p_1_0 - t*p_1_1 + p_1_0*p_1_1 - t + 1/2*p_1_0 + 1/2*p_1_1 + 1/4)/(t^2 - 2*t*p_0_0 + p_0_0^2 - t + p_0_0)"
      ]
     },
     "execution_count": 32,
     "metadata": {},
     "output_type": "execute_result"
    }
   ],
   "source": [
    "H = G0.H(0); H"
   ]
  },
  {
   "cell_type": "markdown",
   "id": "229180dd-9f05-4792-964b-d406fe8328f8",
   "metadata": {},
   "source": [
    "as well as their modes:"
   ]
  },
  {
   "cell_type": "code",
   "execution_count": 33,
   "id": "0e7c5f76-1b48-47b5-9fc0-541373b0cbcd",
   "metadata": {},
   "outputs": [
    {
     "data": {
      "text/plain": [
       "-p_0_0 + 2*p_1_0 + 2*p_1_1 - p_2_0 + 1"
      ]
     },
     "execution_count": 33,
     "metadata": {},
     "output_type": "execute_result"
    }
   ],
   "source": [
    "G0.H(1,2)"
   ]
  },
  {
   "cell_type": "markdown",
   "id": "0a7eb709-9c97-4453-b54f-3f63234e75c6",
   "metadata": {},
   "source": [
    "Here are some special modes:"
   ]
  },
  {
   "cell_type": "code",
   "execution_count": 34,
   "id": "1d8dd996-84de-4828-89c6-48c4274485d5",
   "metadata": {},
   "outputs": [
    {
     "name": "stdout",
     "output_type": "stream",
     "text": [
      "H_1[1] = 1\n",
      "H_1[0] = 0\n"
     ]
    }
   ],
   "source": [
    "print(\"H_1[1] = {}\".format(G0.H(1,1)))\n",
    "print(\"H_1[0] = {}\".format(G0.H(1,0)))"
   ]
  },
  {
   "cell_type": "markdown",
   "id": "90dca712-1ee7-4fc9-a1f3-50686dbffdca",
   "metadata": {},
   "source": [
    "Observe how the \"shifted\" part: this current does *not* start from 1! However, this is not the case for the current $H_0(t)$:"
   ]
  },
  {
   "cell_type": "code",
   "execution_count": 35,
   "id": "b4947f8b-0f7c-430c-93e3-f2860239a084",
   "metadata": {},
   "outputs": [
    {
     "name": "stdout",
     "output_type": "stream",
     "text": [
      "H_0[1] = 2*p_0_0 - p_1_0 - p_1_1\n",
      "H_0[0] = 1\n",
      "H_0[-1] = 0\n"
     ]
    }
   ],
   "source": [
    "print(\"H_0[1] = {}\".format(G0.H(0,1)))\n",
    "print(\"H_0[0] = {}\".format(G0.H(0,0)))\n",
    "print(\"H_0[-1] = {}\".format(G0.H(0,-1)))"
   ]
  },
  {
   "cell_type": "markdown",
   "id": "e0bdb273-9289-4d18-af49-27731d7e2f73",
   "metadata": {},
   "source": [
    "Similarly, one can use the currents $E_i(t)$ and $F_i(t)$ of Theorem B.15 [BFN2018]:"
   ]
  },
  {
   "cell_type": "code",
   "execution_count": 36,
   "id": "27250427-2b3e-4b32-954e-0d4ebc3be529",
   "metadata": {},
   "outputs": [
    {
     "data": {
      "text/plain": [
       "(1/(t-p_0_0-1))*u_0_0"
      ]
     },
     "execution_count": 36,
     "metadata": {},
     "output_type": "execute_result"
    }
   ],
   "source": [
    "G0.F(0)"
   ]
  },
  {
   "cell_type": "code",
   "execution_count": 37,
   "id": "b0cc3f2a-3530-4388-ba5d-abd9421c2b98",
   "metadata": {},
   "outputs": [
    {
     "data": {
      "text/plain": [
       "-(1/(t-p_2_0))*u_2_0^-1"
      ]
     },
     "execution_count": 37,
     "metadata": {},
     "output_type": "execute_result"
    }
   ],
   "source": [
    "G0.E(2)"
   ]
  },
  {
   "cell_type": "markdown",
   "id": "1327fba3-c7e0-4530-9586-34a84ec67ca6",
   "metadata": {},
   "source": [
    "For instance, let \n",
    "\n",
    "$i=0,\\ j=1,\\ p=3,\\ q=6.$"
   ]
  },
  {
   "cell_type": "code",
   "execution_count": 38,
   "id": "a7898f8b-f882-4cb5-ab16-a2924b203ca9",
   "metadata": {},
   "outputs": [],
   "source": [
    "i = 0; j = 1; p = 3; q = 6"
   ]
  },
  {
   "cell_type": "markdown",
   "id": "a139a31b-ea94-43e5-9a44-0fbb739bd6f2",
   "metadata": {},
   "source": [
    "Let us check the 5-th relation in Definition B.1 [BFN2018] between $E$-currents. For brevity, we can use the commutator function `comm` such that \n",
    "\n",
    "`comm(x, y) = x*y - y*x`"
   ]
  },
  {
   "cell_type": "code",
   "execution_count": 39,
   "id": "71c70f6b-80ac-44a2-8867-19c3bc7c3810",
   "metadata": {},
   "outputs": [
    {
     "data": {
      "text/plain": [
       "True"
      ]
     },
     "execution_count": 39,
     "metadata": {},
     "output_type": "execute_result"
    }
   ],
   "source": [
    "comm(G0.E(i,p+1), G0.E(j,q)) - comm(G0.E(i,p), G0.E(j,q+1)) == -G0.hbar()/2*(G0.E(i,p)*G0.E(j,q) + G0.E(j,q)*G0.E(i,p))"
   ]
  },
  {
   "cell_type": "markdown",
   "id": "d0bec813-7ca6-4979-b91d-fef52bc3265e",
   "metadata": {},
   "source": [
    "It works (note that $\\alpha_i \\cdot \\alpha_j = -1$)! A reminder: do not forget that, in general, we use the asymptotic version of relations, that is why it is necessary to multiply the right-hand side by the quantization parameter `G0.hbar()`. However, here"
   ]
  },
  {
   "cell_type": "code",
   "execution_count": 40,
   "id": "8bfb6755-7dd3-4acc-b483-63852c52cf36",
   "metadata": {},
   "outputs": [
    {
     "data": {
      "text/plain": [
       "1"
      ]
     },
     "execution_count": 40,
     "metadata": {},
     "output_type": "execute_result"
    }
   ],
   "source": [
    "G0.hbar()"
   ]
  },
  {
   "cell_type": "markdown",
   "id": "0b3b08a0-3d69-47db-93a4-56da0139484f",
   "metadata": {},
   "source": [
    "so everything is fine. "
   ]
  },
  {
   "cell_type": "markdown",
   "id": "95c8251c-e092-49ef-8d04-1ea4b56529d2",
   "metadata": {},
   "source": [
    "Just to be sure, let us also check the second relation, between $E$ and $F$:"
   ]
  },
  {
   "cell_type": "code",
   "execution_count": 41,
   "id": "b7aeab53-49b0-4d9d-b883-88014546273f",
   "metadata": {},
   "outputs": [
    {
     "data": {
      "text/plain": [
       "True"
      ]
     },
     "execution_count": 41,
     "metadata": {},
     "output_type": "execute_result"
    }
   ],
   "source": [
    "comm(G0.E(i,p), G0.F(j,q)) == (i==j)*G0.H(i,p+q-1)"
   ]
  },
  {
   "cell_type": "markdown",
   "id": "33a787cc-e085-4000-abf6-d468df0e82d0",
   "metadata": {},
   "source": [
    "and for different parameters"
   ]
  },
  {
   "cell_type": "code",
   "execution_count": 42,
   "id": "7ca0da98-63a3-4cd8-98c4-4bf8c6f9f774",
   "metadata": {},
   "outputs": [
    {
     "data": {
      "text/plain": [
       "True"
      ]
     },
     "execution_count": 42,
     "metadata": {},
     "output_type": "execute_result"
    }
   ],
   "source": [
    "i = 1; j = 1; p = 3; q = 6\n",
    "comm(G0.E(i,p), G0.F(j,q)) == (i==j)*G0.H(i,p+q-1)"
   ]
  },
  {
   "cell_type": "markdown",
   "id": "effebc6d-e38c-4582-8dd2-2a37feda7840",
   "metadata": {},
   "source": [
    "Perfect! The only downside is that there are infinitely many generators, so we cannot conclude right away that this is indeed a representation of the Yangian. This is the place where <b> spectral_vars</b> enter. Let us define a version of `G0`, but with more spectral variables:"
   ]
  },
  {
   "cell_type": "code",
   "execution_count": 43,
   "id": "ccc059b4-9edf-4b29-bdc8-bbd54791dbd3",
   "metadata": {},
   "outputs": [],
   "source": [
    "G1 = QuiverGKLO(base_ring=QQ, v=(1,2,1), w=(0,1,0), Q1={0: [1], 1: [2]}, spectral_vars=['t','s','z'])\n",
    "t, s, z = G1.spectral_variables()"
   ]
  },
  {
   "cell_type": "markdown",
   "id": "59d0e0b2-3c2a-4226-9f91-79cd52666303",
   "metadata": {},
   "source": [
    "By default, all currents use the first spectral variable:"
   ]
  },
  {
   "cell_type": "code",
   "execution_count": 44,
   "id": "1e4ecc66-9cfe-42a6-8564-409d8d4ac7eb",
   "metadata": {},
   "outputs": [
    {
     "data": {
      "text/plain": [
       "(t^2 - t*p_1_0 - t*p_1_1 + p_1_0*p_1_1)/t^2"
      ]
     },
     "execution_count": 44,
     "metadata": {},
     "output_type": "execute_result"
    }
   ],
   "source": [
    "G1.A(1)"
   ]
  },
  {
   "cell_type": "markdown",
   "id": "d794b857-316d-429f-b3c3-0f0f70fb6c8d",
   "metadata": {},
   "source": [
    "We can substitute another one:"
   ]
  },
  {
   "cell_type": "code",
   "execution_count": 45,
   "id": "f05fba12-30d4-47c3-b0bd-8e1bdba359dc",
   "metadata": {},
   "outputs": [
    {
     "data": {
      "text/plain": [
       "(s^2 - s*p_1_0 - s*p_1_1 + p_1_0*p_1_1)/s^2"
      ]
     },
     "execution_count": 45,
     "metadata": {},
     "output_type": "execute_result"
    }
   ],
   "source": [
    "G1.A(1)(t=s)"
   ]
  },
  {
   "cell_type": "markdown",
   "id": "728f419b-1916-44d7-abdb-809c692260b8",
   "metadata": {},
   "source": [
    "For instance, let us verify the Serre relation:"
   ]
  },
  {
   "cell_type": "code",
   "execution_count": 46,
   "id": "e5a53f40-4b0c-410c-aa0a-f3c91e34eaa1",
   "metadata": {},
   "outputs": [
    {
     "data": {
      "text/plain": [
       "0"
      ]
     },
     "execution_count": 46,
     "metadata": {},
     "output_type": "execute_result"
    }
   ],
   "source": [
    "i = 0; j = 1\n",
    "comm(G1.E(i)(t=t), comm(G1.E(i)(t=s), G1.E(j)(t=z))) +  comm(G1.E(i)(t=s), comm(G1.E(i)(t=t), G1.E(j)(t=z)))"
   ]
  },
  {
   "cell_type": "markdown",
   "id": "78cae55f-f794-4b51-8c27-a9d2824666fd",
   "metadata": {},
   "source": [
    "Or the relation between $E$, $F$, and $H$:"
   ]
  },
  {
   "cell_type": "code",
   "execution_count": 47,
   "id": "a5ce3041-036e-492a-b103-0a02bb8081e1",
   "metadata": {},
   "outputs": [
    {
     "data": {
      "text/plain": [
       "True"
      ]
     },
     "execution_count": 47,
     "metadata": {},
     "output_type": "execute_result"
    }
   ],
   "source": [
    "i = 0; j = 1\n",
    "comm(G1.E(i)(t=t), G1.F(j)(t=s)) == 1/(t-s)*(i==j)*(G1.H(i)(t=t) - G1.H(i)(t=s))"
   ]
  },
  {
   "cell_type": "code",
   "execution_count": 48,
   "id": "2ab05a01-c1f5-4cf7-80aa-983909d6f5fa",
   "metadata": {},
   "outputs": [
    {
     "data": {
      "text/plain": [
       "True"
      ]
     },
     "execution_count": 48,
     "metadata": {},
     "output_type": "execute_result"
    }
   ],
   "source": [
    "i = 1; j = 1\n",
    "comm(G1.E(i)(t=t), G1.F(j)(t=s)) == 1/(t-s)*(i==j)*(G1.H(i)(t=s) - G1.H(i)(t=t))"
   ]
  },
  {
   "cell_type": "markdown",
   "id": "c1c5bb37-4d3a-421e-8b92-a153eca18de4",
   "metadata": {},
   "source": [
    "It works!"
   ]
  },
  {
   "cell_type": "markdown",
   "id": "4e43c9dc-3a09-4426-b8ab-2af1071b921f",
   "metadata": {},
   "source": [
    "Another thing that `QuiverGKLO` implements is monopole operators (A.3) and (A.5) of [BFN2018] with $f = 1$. The input is:\n",
    "\n",
    "<ul>\n",
    "    <li> <b>i</b> -- the node of the quiver </li>\n",
    "    <li> <b>n</b> -- corresponds to $n$ in *loc. cit.*, a number between 1 and $v_i$.</li>\n",
    "    <li> <b>dual</b> : <b style=\"color:#ff3399\">bool</b> -- (default : `False`) if `True`, gives (A.5), otherwise (A.3) </li>\n",
    "</ul>"
   ]
  },
  {
   "cell_type": "markdown",
   "id": "94241d14-523c-4beb-a6e8-b6d9d77b10e5",
   "metadata": {},
   "source": [
    "Here is an example for the quantum Toda lattice realized as the truncated shifted Yangian $Y^{0}_{-2n}(\\mathfrak{sl}_2)$: "
   ]
  },
  {
   "cell_type": "code",
   "execution_count": 49,
   "id": "caa9101a-e8d2-450a-8f06-c18dec25ee71",
   "metadata": {},
   "outputs": [],
   "source": [
    "N = 3\n",
    "G2 = QuiverGKLO(base_ring=QQ, v=N, w=0, Q1=[])"
   ]
  },
  {
   "cell_type": "code",
   "execution_count": 50,
   "id": "c0bceace-5f88-4181-94ff-04b80b721e7c",
   "metadata": {},
   "outputs": [
    {
     "data": {
      "text/plain": [
       "(1/(p_0_0*p_0_1-p_0_0*p_0_2-p_0_1*p_0_2+p_0_2^2))*u_0_0*u_0_1 + (1/(-p_0_0*p_0_1+p_0_1^2+p_0_0*p_0_2-p_0_1*p_0_2))*u_0_0*u_0_2 + (1/(p_0_0^2-p_0_0*p_0_1-p_0_0*p_0_2+p_0_1*p_0_2))*u_0_1*u_0_2"
      ]
     },
     "execution_count": 50,
     "metadata": {},
     "output_type": "execute_result"
    }
   ],
   "source": [
    "i = 0; n = 2\n",
    "x_toda = G2.monopole_operator(i, n); x_toda"
   ]
  },
  {
   "cell_type": "markdown",
   "id": "e626c4a4-1584-4f33-a79d-ebd0490f2531",
   "metadata": {},
   "source": [
    "Unfortunately, I do not have much intuition about them. But, for instance, one check that monopole operators for one node commute among themselves. For instance, for the quantum Toda lattice, they are a certain degeneration of the rational difference Macdonald operators."
   ]
  },
  {
   "cell_type": "code",
   "execution_count": 51,
   "id": "fb3580d2-5089-4ae6-8037-e233af298691",
   "metadata": {},
   "outputs": [
    {
     "data": {
      "text/plain": [
       "(1/(p_0_0^2-p_0_0*p_0_1-p_0_0*p_0_2+p_0_1*p_0_2))*u_0_0 + (1/(-p_0_0*p_0_1+p_0_1^2+p_0_0*p_0_2-p_0_1*p_0_2))*u_0_1 + (1/(p_0_0*p_0_1-p_0_0*p_0_2-p_0_1*p_0_2+p_0_2^2))*u_0_2"
      ]
     },
     "execution_count": 51,
     "metadata": {},
     "output_type": "execute_result"
    }
   ],
   "source": [
    "k = 1\n",
    "y_toda = G2.monopole_operator(i, k); y_toda"
   ]
  },
  {
   "cell_type": "code",
   "execution_count": 52,
   "id": "54219355-7b91-4903-8cbe-2b2b9cb668c3",
   "metadata": {},
   "outputs": [
    {
     "data": {
      "text/plain": [
       "True"
      ]
     },
     "execution_count": 52,
     "metadata": {},
     "output_type": "execute_result"
    }
   ],
   "source": [
    "comm(x_toda, y_toda) == 0"
   ]
  },
  {
   "cell_type": "markdown",
   "id": "1fc6c31e-45c0-4d42-93f4-f684cac61a25",
   "metadata": {},
   "source": [
    "Let us check it for some more complicated example, for instance, for the quiver realization of $Y^{\\omega_1}_{w_0 \\omega_1} (\\mathfrak{so}_8)$ (type is $D4$), and let us add a formal parameter to make things spicier:"
   ]
  },
  {
   "cell_type": "code",
   "execution_count": 53,
   "id": "b2cb4000-b0c8-447a-abea-b7948f6aa65e",
   "metadata": {},
   "outputs": [
    {
     "data": {
      "text/plain": [
       "(p_0_0^2*p_0_1^2-p_0_0^2*p_0_1*p_1_0-p_0_0*p_0_1^2*p_1_0+p_0_0*p_0_1*p_1_0^2-p_0_0^2*p_0_1*p_1_1-p_0_0*p_0_1^2*p_1_1+p_0_0^2*p_1_0*p_1_1+2*p_0_0*p_0_1*p_1_0*p_1_1+p_0_1^2*p_1_0*p_1_1-p_0_0*p_1_0^2*p_1_1-p_0_1*p_1_0^2*p_1_1+p_0_0*p_0_1*p_1_1^2-p_0_0*p_1_0*p_1_1^2-p_0_1*p_1_0*p_1_1^2+p_1_0^2*p_1_1^2+(-h)*p_0_0^2*p_0_1+(-h)*p_0_0*p_0_1^2+h/2*p_0_0^2*p_1_0+(2*h)*p_0_0*p_0_1*p_1_0+h/2*p_0_1^2*p_1_0+(-h)/2*p_0_0*p_1_0^2+(-h)/2*p_0_1*p_1_0^2+h/2*p_0_0^2*p_1_1+(2*h)*p_0_0*p_0_1*p_1_1+h/2*p_0_1^2*p_1_1+(-2*h)*p_0_0*p_1_0*p_1_1+(-2*h)*p_0_1*p_1_0*p_1_1+h*p_1_0^2*p_1_1+(-h)/2*p_0_0*p_1_1^2+(-h)/2*p_0_1*p_1_1^2+h*p_1_0*p_1_1^2+(h^2)/4*p_0_0^2+(h^2)*p_0_0*p_0_1+(h^2)/4*p_0_1^2+(-3*h^2)/4*p_0_0*p_1_0+(-3*h^2)/4*p_0_1*p_1_0+(h^2)/4*p_1_0^2+(-3*h^2)/4*p_0_0*p_1_1+(-3*h^2)/4*p_0_1*p_1_1+(h^2)*p_1_0*p_1_1+(h^2)/4*p_1_1^2+(-h^3)/4*p_0_0+(-h^3)/4*p_0_1+(h^3)/4*p_1_0+(h^3)/4*p_1_1+(h^4)/16)*u_1_0*u_1_1"
      ]
     },
     "execution_count": 53,
     "metadata": {},
     "output_type": "execute_result"
    }
   ],
   "source": [
    "G3 = QuiverGKLO(base_ring=QQ, v=(2,2,1,1), w=(1,0,0,0), Q1=[(0,1), (1,2), (1,3)], asymptotic=True)\n",
    "x = G3.monopole_operator(1,2); x"
   ]
  },
  {
   "cell_type": "code",
   "execution_count": 54,
   "id": "86fe932e-e46a-4e36-b1b3-2a7006cf4c1a",
   "metadata": {},
   "outputs": [
    {
     "data": {
      "text/plain": [
       "((p_0_0*p_0_1-p_0_0*p_1_0-p_0_1*p_1_0+p_1_0^2+(-h)/2*p_0_0+(-h)/2*p_0_1+h*p_1_0+(h^2)/4)/(p_1_0-p_1_1))*u_1_0 + ((p_0_0*p_0_1-p_0_0*p_1_1-p_0_1*p_1_1+p_1_1^2+(-h)/2*p_0_0+(-h)/2*p_0_1+h*p_1_1+(h^2)/4)/(-p_1_0+p_1_1))*u_1_1"
      ]
     },
     "execution_count": 54,
     "metadata": {},
     "output_type": "execute_result"
    }
   ],
   "source": [
    "y = G3.monopole_operator(1,1); y"
   ]
  },
  {
   "cell_type": "markdown",
   "id": "dab94eaa-29c7-4ba3-80ef-98ba85c5f925",
   "metadata": {},
   "source": [
    "Not particularly simple, however..."
   ]
  },
  {
   "cell_type": "code",
   "execution_count": 55,
   "id": "c6d8e839-d33c-44fe-bbeb-a31ddb60d43e",
   "metadata": {},
   "outputs": [
    {
     "data": {
      "text/plain": [
       "0"
      ]
     },
     "execution_count": 55,
     "metadata": {},
     "output_type": "execute_result"
    }
   ],
   "source": [
    "comm(x, y)"
   ]
  },
  {
   "cell_type": "markdown",
   "id": "737f718e-5ab7-48f0-9c95-b981745680cd",
   "metadata": {},
   "source": [
    "Marvelous! "
   ]
  },
  {
   "cell_type": "markdown",
   "id": "5a01434d-c5d9-4cc3-bd1a-7f5c9f92b754",
   "metadata": {},
   "source": [
    "Finally, we mentioned them many times, and let us finally get to the *actual* truncated shifted Yangians. So far, they are realized *only* for <b>simply-laced</b> simple Lie algebras.\n",
    "\n",
    "Let $\\mathfrak{g}$ be a simple simply-laced Lie algebra of rank $rk$. Denote by \n",
    "<ul>\n",
    "    <li> $\\{\\omega_0, \\ldots, \\omega_{rk-1} \\}$ the set of fundamental *co*weights; </li>\n",
    "    <li> $\\{\\alpha_0, \\ldots, \\alpha_{rk-1}\\}$ the set of simple *co*roots</li> \n",
    "</ul>\n",
    "We will also denote by $\\{ \\alpha_0^{\\vee}, \\ldots, \\alpha_{rk-1}^{\\vee} \\}$ the set of simple roots (I apologize for switching checks, but it is more convenient for code implementation). \n",
    "\n",
    "Consider its two coweights $\\lambda,\\mu$ such that:\n",
    "<ul>\n",
    "    <li> $\\lambda = w_0 \\omega_0 + \\ldots + w_{rk-1} \\omega_{rk-1}$ a dominant coweight (in particular, $w_i \\geq 0$ for all $i$)</li>\n",
    "    <li> $\\lambda - \\mu = v_0 \\alpha_0 + \\ldots + v_{rk-1} \\alpha_{rk-1}$, where each $v_i \\geq 0$.</li>\n",
    "</ul>\n",
    "\n",
    "To this data, one can assign a quiver gauge theory with $Q$ being the Dynkin diagram with any orientation and the respective dimension vector $v = (v_0, \\ldots, v_{rk-1})$ and framing dimension vector $w = (w_0, \\ldots, w_{rk-1})$. The corresponding Coulomb branch realizes the truncated shifted Yangian $Y^{\\lambda}_{\\mu}(\\mathfrak{g})$."
   ]
  },
  {
   "cell_type": "markdown",
   "id": "d749c6a2-661a-410c-b535-adb07785082c",
   "metadata": {},
   "source": [
    "Before discussing its realization, let us show how to deal with root systems. We use its `SageMath` implementation via `RootSystem`:"
   ]
  },
  {
   "cell_type": "code",
   "execution_count": 56,
   "id": "e0138e9d-6cb0-4714-844b-94b63bb37683",
   "metadata": {},
   "outputs": [],
   "source": [
    "from sage.combinat.root_system.root_system import RootSystem"
   ]
  },
  {
   "cell_type": "markdown",
   "id": "68c94fca-22fa-459d-9dd5-96aa9d2d58d7",
   "metadata": {},
   "source": [
    "Here are possible ways to introduce the A3 root system:"
   ]
  },
  {
   "cell_type": "code",
   "execution_count": 57,
   "id": "241aa2ff-3945-441a-a7c8-5f092a8bda22",
   "metadata": {},
   "outputs": [
    {
     "data": {
      "text/plain": [
       "Root system of type ['A', 3]"
      ]
     },
     "execution_count": 57,
     "metadata": {},
     "output_type": "execute_result"
    }
   ],
   "source": [
    "R0 = RootSystem(\"A3\"); R0"
   ]
  },
  {
   "cell_type": "code",
   "execution_count": 58,
   "id": "1fbd3bb1-d2ea-47a7-8399-a5246afcf891",
   "metadata": {},
   "outputs": [
    {
     "data": {
      "text/plain": [
       "True"
      ]
     },
     "execution_count": 58,
     "metadata": {},
     "output_type": "execute_result"
    }
   ],
   "source": [
    "R0_0 = RootSystem([\"A\",3])\n",
    "R0_0 is R0"
   ]
  },
  {
   "cell_type": "markdown",
   "id": "c0845179-94b5-44d9-9377-f16aabd028af",
   "metadata": {},
   "source": [
    "To work with coweights, we use function `coambient_space()`:"
   ]
  },
  {
   "cell_type": "code",
   "execution_count": 59,
   "id": "01aa8ede-ee3d-46b7-aff5-bcebda03b6d9",
   "metadata": {},
   "outputs": [
    {
     "name": "stderr",
     "output_type": "stream",
     "text": [
      "/Users/art_kalm/sage/src/sage/categories/modules_with_basis.py:582: UserWarning: Resolving lazy import ModuleMorphismByLinearity during startup\n",
      "  return ModuleMorphismByLinearity(\n"
     ]
    },
    {
     "data": {
      "text/plain": [
       "Coambient space of the Root system of type ['A', 3]"
      ]
     },
     "execution_count": 59,
     "metadata": {},
     "output_type": "execute_result"
    }
   ],
   "source": [
    "L = R0.coambient_space(); L"
   ]
  },
  {
   "cell_type": "markdown",
   "id": "38cfe96d-5f9b-4a99-a282-eb091485b951",
   "metadata": {},
   "source": [
    "Let us introduce the fundamental coweights and simple coroots:"
   ]
  },
  {
   "cell_type": "code",
   "execution_count": 60,
   "id": "93d29e8f-3687-42fb-985f-142b4dbbb01a",
   "metadata": {},
   "outputs": [
    {
     "name": "stdout",
     "output_type": "stream",
     "text": [
      "Fundamental coweights realization is by: Finite family {1: (1, 0, 0, 0), 2: (1, 1, 0, 0), 3: (1, 1, 1, 0)}\n",
      "Simple coroots realization is by: Finite family {1: (1, -1, 0, 0), 2: (0, 1, -1, 0), 3: (0, 0, 1, -1)}\n"
     ]
    }
   ],
   "source": [
    "fw = L.fundamental_weights()\n",
    "alpha = L.simple_roots()\n",
    "print(\"Fundamental coweights realization is by: {}\".format(fw))\n",
    "print(\"Simple coroots realization is by: {}\".format(alpha))"
   ]
  },
  {
   "cell_type": "markdown",
   "id": "c2c79f0e-5e02-48e6-b6db-d8ae178f6d97",
   "metadata": {},
   "source": [
    "We see that it uses specific realization of A3 root system. Let us check that `fw` are indeed fundamental coweights. For that, let us introduce the simple *roots*:"
   ]
  },
  {
   "cell_type": "code",
   "execution_count": 61,
   "id": "174a20d4-f1bd-4494-9a24-ab9a70bc29e8",
   "metadata": {},
   "outputs": [
    {
     "data": {
      "text/plain": [
       "Finite family {1: (1, -1, 0, 0), 2: (0, 1, -1, 0), 3: (0, 0, 1, -1)}"
      ]
     },
     "execution_count": 61,
     "metadata": {},
     "output_type": "execute_result"
    }
   ],
   "source": [
    "L_check = R0.ambient_space()\n",
    "alpha_check = L_check.simple_roots(); alpha_check"
   ]
  },
  {
   "cell_type": "markdown",
   "id": "6ce7308a-f115-459f-9421-97e6f1c47a0a",
   "metadata": {},
   "source": [
    "<b> IMPORTANT NOTE: </b> while their string representation, our implementation is sensible to the difference between weights and coweights. This is done for future generalization to non-simply laced types."
   ]
  },
  {
   "cell_type": "markdown",
   "id": "28947a8c-57a0-4ecd-accb-481847a14ce0",
   "metadata": {},
   "source": [
    "Let us compute the pairing between some simple roots and fundamental coweights. It uses function `to_vector()` which defines a vector representation of the corresponding (co)weight."
   ]
  },
  {
   "cell_type": "code",
   "execution_count": 62,
   "id": "c9ca1424-8a48-4e11-a8bc-76ba3d967fbc",
   "metadata": {},
   "outputs": [
    {
     "data": {
      "text/plain": [
       "1"
      ]
     },
     "execution_count": 62,
     "metadata": {},
     "output_type": "execute_result"
    }
   ],
   "source": [
    "i = 1; j = 1\n",
    "fw[i].to_vector().dot_product(alpha_check[j].to_vector())"
   ]
  },
  {
   "cell_type": "code",
   "execution_count": 63,
   "id": "e0260818-6a39-499d-bfad-a6974271f506",
   "metadata": {},
   "outputs": [
    {
     "data": {
      "text/plain": [
       "0"
      ]
     },
     "execution_count": 63,
     "metadata": {},
     "output_type": "execute_result"
    }
   ],
   "source": [
    "i = 1; j = 3\n",
    "fw[i].to_vector().dot_product(alpha_check[j].to_vector())"
   ]
  },
  {
   "cell_type": "markdown",
   "id": "c76903f8-89f7-4e6a-86f0-4461d45cd79e",
   "metadata": {},
   "source": [
    "Seems to work!\n",
    "We can also use the Weyl group:"
   ]
  },
  {
   "cell_type": "code",
   "execution_count": 64,
   "id": "3b4071d9-b5bb-4620-85ce-57c4661976ae",
   "metadata": {},
   "outputs": [
    {
     "name": "stderr",
     "output_type": "stream",
     "text": [
      "/Users/art_kalm/sage/src/sage/categories/category_with_axiom.py:1799: UserWarning: Resolving lazy import FiniteWeylGroups during startup\n",
      "  assert getattr(base_category_class, axiom, None) is cls, \\\n",
      "/Users/art_kalm/sage/src/sage/categories/category.py:2063: UserWarning: Resolving lazy import FiniteCoxeterGroups during startup\n",
      "  axiom_attribute = getattr(self.__class__, axiom, None)\n",
      "/Users/art_kalm/sage/src/sage/categories/generalized_coxeter_groups.py:94: UserWarning: Resolving lazy import FiniteComplexReflectionGroups during startup\n",
      "  return [ComplexReflectionGroups().Finite().WellGenerated()]\n"
     ]
    },
    {
     "data": {
      "text/plain": [
       "Weyl Group of type ['A', 3] (as a matrix group acting on the coambient space)"
      ]
     },
     "execution_count": 64,
     "metadata": {},
     "output_type": "execute_result"
    }
   ],
   "source": [
    "W = L.weyl_group(); W"
   ]
  },
  {
   "cell_type": "markdown",
   "id": "e85a78fa-497e-4f67-94c2-ea24b954c806",
   "metadata": {},
   "source": [
    "This is a function to introduce simple reflections:"
   ]
  },
  {
   "cell_type": "code",
   "execution_count": 65,
   "id": "9f914494-18ae-4207-a2f7-7c32878e2a55",
   "metadata": {},
   "outputs": [
    {
     "data": {
      "text/plain": [
       "Finite family {1: [0 1 0 0]\n",
       "[1 0 0 0]\n",
       "[0 0 1 0]\n",
       "[0 0 0 1], 2: [1 0 0 0]\n",
       "[0 0 1 0]\n",
       "[0 1 0 0]\n",
       "[0 0 0 1], 3: [1 0 0 0]\n",
       "[0 1 0 0]\n",
       "[0 0 0 1]\n",
       "[0 0 1 0]}"
      ]
     },
     "execution_count": 65,
     "metadata": {},
     "output_type": "execute_result"
    }
   ],
   "source": [
    "s = W.simple_reflections(); s"
   ]
  },
  {
   "cell_type": "markdown",
   "id": "b0157d00-c009-4600-ae32-08d33a72b150",
   "metadata": {},
   "source": [
    "And this is an example of an action:"
   ]
  },
  {
   "cell_type": "code",
   "execution_count": 66,
   "id": "8f7837b7-8aae-4806-b00a-b4bc660084c4",
   "metadata": {},
   "outputs": [
    {
     "data": {
      "text/plain": [
       "(1, 0, 0, 0)"
      ]
     },
     "execution_count": 66,
     "metadata": {},
     "output_type": "execute_result"
    }
   ],
   "source": [
    "fw[1]"
   ]
  },
  {
   "cell_type": "code",
   "execution_count": 67,
   "id": "6f24175a-4aec-400f-9f7b-d0d146b00e2a",
   "metadata": {},
   "outputs": [
    {
     "data": {
      "text/plain": [
       "(0, 1, 0, 0)"
      ]
     },
     "execution_count": 67,
     "metadata": {},
     "output_type": "execute_result"
    }
   ],
   "source": [
    "s[1].action(fw[1])"
   ]
  },
  {
   "cell_type": "markdown",
   "id": "edad2287-fe91-4261-9ba6-d4f56736a487",
   "metadata": {},
   "source": [
    "A particularly important element is the longest one $w_0$:"
   ]
  },
  {
   "cell_type": "code",
   "execution_count": 68,
   "id": "401e8a49-751d-4e87-a661-a26f3d994291",
   "metadata": {},
   "outputs": [
    {
     "data": {
      "text/plain": [
       "(0, 0, 0, 1)"
      ]
     },
     "execution_count": 68,
     "metadata": {},
     "output_type": "execute_result"
    }
   ],
   "source": [
    "w0 = W.w0\n",
    "w0.action(fw[1])"
   ]
  },
  {
   "cell_type": "markdown",
   "id": "70fa51fe-1da2-46cf-9d0c-68f2fa14fdcb",
   "metadata": {},
   "source": [
    "Finally, let us move to truncated shifted Yangian. It is realized by `GKLO` with input:\n",
    "\n",
    "<ul>\n",
    "    <li> <b> root_system </b> -- root system. Possible values: an instance of `RootSystem` (as above) OR a string of the form \"A3\" (\"E6\", \"D4\", etc) OR a list of the form `[\"A\", 3]` (`[\"E\", 6]`, `[\"D\", 4]`, etc). </li>\n",
    "    <li> <b> lmbd </b>  -- coweight $\\lambda$, an element of `coambient_space()` as above </li>\n",
    "    <li> <b> mu </b>  -- coweight $\\lambda$, an element of `coambient_space()` as above </li>\n",
    "    <li> <b>base_ring, spectral_vars, asymptotic, hbar_multiple, var_prefix, diff_prefix</b> -- same as for `QuiverGKLO` </li>\n",
    "</ul>"
   ]
  },
  {
   "cell_type": "markdown",
   "id": "411b9f9c-0d56-46ed-8fe0-e4a9317e8824",
   "metadata": {},
   "source": [
    "Here is an example: recall that `G0` associated to the quiver gauge theory with\n",
    "<ul>\n",
    "    <li> $Q = (Q_0, Q_1)$ with $Q_0 = \\{0, 1, 2\\}$ and $Q_1 = [(0,1), (1,2)]$, a particular orientation of the A3 Dynkin diagram</li>\n",
    "    <li> $v = (1, 2, 1)$ the dimension vector</li>\n",
    "    <li> $w = (0, 1, 0)$ the framing dimension vector </li>\n",
    "</ul>\n",
    "from some time ago. In fact, it corresponds to $Y^{\\lambda}_{\\mu}(\\mathfrak{sl}_4)$ with $\\lambda = \\omega_2$ and $\\mu = w_0 \\lambda$. So, let us introduce it comme il faut:"
   ]
  },
  {
   "cell_type": "code",
   "execution_count": 69,
   "id": "ede2ca8e-86ff-4677-b3d2-2309bdc82053",
   "metadata": {},
   "outputs": [
    {
     "name": "stderr",
     "output_type": "stream",
     "text": [
      "/Users/art_kalm/sage/src/sage/combinat/root_system/cartan_matrix.py:289: UserWarning: Resolving lazy import DynkinDiagram_class during startup\n",
      "  if isinstance(data, DynkinDiagram_class):\n"
     ]
    },
    {
     "data": {
      "text/plain": [
       "Algebra of difference operators over Rational Field with quantization parameter 1 and spectral parameters t realizing the Coulomb branch of the quiver gauge theory with vertices {0, 1, 2} and arrows ((0, 1), (1, 2)), dimension vector (1, 2, 1), framings (0, 1, 0)"
      ]
     },
     "execution_count": 69,
     "metadata": {},
     "output_type": "execute_result"
    }
   ],
   "source": [
    "lmbd = fw[2]\n",
    "mu = w0.action(lmbd)\n",
    "G4 = GKLO(base_ring=QQ, root_system=R0, lmbd=lmbd, mu=mu); G4"
   ]
  },
  {
   "cell_type": "markdown",
   "id": "68375702-8561-4c68-b482-5e30b8d8b97a",
   "metadata": {},
   "source": [
    "First, let us check that it does give the aforementioned gauge theory. For that, we can compute the dimension vector:"
   ]
  },
  {
   "cell_type": "code",
   "execution_count": 70,
   "id": "ed0ad214-701d-46d9-bb04-94f3ce54f808",
   "metadata": {},
   "outputs": [
    {
     "data": {
      "text/plain": [
       "(1, 2, 1)"
      ]
     },
     "execution_count": 70,
     "metadata": {},
     "output_type": "execute_result"
    }
   ],
   "source": [
    "G4.v()"
   ]
  },
  {
   "cell_type": "markdown",
   "id": "aed5c2a5-4aa1-436e-9f5b-e36b7bf55cc2",
   "metadata": {},
   "source": [
    "and the framing dimension vector:"
   ]
  },
  {
   "cell_type": "code",
   "execution_count": 71,
   "id": "9e4e5ade-e26a-4ff0-99f7-93c9dd405b97",
   "metadata": {},
   "outputs": [
    {
     "data": {
      "text/plain": [
       "(0, 1, 0)"
      ]
     },
     "execution_count": 71,
     "metadata": {},
     "output_type": "execute_result"
    }
   ],
   "source": [
    "G4.w()"
   ]
  },
  {
   "cell_type": "markdown",
   "id": "87a59574-3465-42f5-850e-5744e78522f9",
   "metadata": {},
   "source": [
    "We can use all the functions that we defined for `QuiverGKLO`, for instance:"
   ]
  },
  {
   "cell_type": "code",
   "execution_count": 72,
   "id": "a963e800-c133-46d3-b6e5-cda66721b32e",
   "metadata": {},
   "outputs": [
    {
     "data": {
      "text/plain": [
       "(p_0_0+1)*u_0_0"
      ]
     },
     "execution_count": 72,
     "metadata": {},
     "output_type": "execute_result"
    }
   ],
   "source": [
    "G4.difference_operators()[0,0]*G4.functional_variables()[0,0]"
   ]
  },
  {
   "cell_type": "code",
   "execution_count": 73,
   "id": "10496b9f-7c70-4521-b139-d3c136f342ad",
   "metadata": {},
   "outputs": [
    {
     "data": {
      "text/plain": [
       "(1/(t-p_0_0-1))*u_0_0"
      ]
     },
     "execution_count": 73,
     "metadata": {},
     "output_type": "execute_result"
    }
   ],
   "source": [
    "G4.F(0)"
   ]
  },
  {
   "cell_type": "code",
   "execution_count": 74,
   "id": "9d90fc8d-538d-4f44-b968-4693dac7fe58",
   "metadata": {},
   "outputs": [
    {
     "data": {
      "text/plain": [
       "-(1/(t-p_2_0))*u_2_0^-1"
      ]
     },
     "execution_count": 74,
     "metadata": {},
     "output_type": "execute_result"
    }
   ],
   "source": [
    "G4.E(2)"
   ]
  },
  {
   "cell_type": "markdown",
   "id": "2402f40e-a0cc-42de-807e-1e5e17b29e5a",
   "metadata": {},
   "source": [
    "Just in case, we can always access the underlying root system:"
   ]
  },
  {
   "cell_type": "code",
   "execution_count": 75,
   "id": "4f040310-648f-43d4-b9e7-c0d2c29fa248",
   "metadata": {},
   "outputs": [
    {
     "data": {
      "text/plain": [
       "True"
      ]
     },
     "execution_count": 75,
     "metadata": {},
     "output_type": "execute_result"
    }
   ],
   "source": [
    "R0_1 = G4.root_system\n",
    "R0_1 is R0"
   ]
  },
  {
   "cell_type": "markdown",
   "id": "7ca7913f-a1de-424b-b6dc-61053b2621e1",
   "metadata": {},
   "source": [
    "In addition, we can use generators associated to non-simple roots. For instance, let define $\\beta^{\\vee} = \\alpha^{\\vee}_0 + \\alpha^{\\vee}_1$:"
   ]
  },
  {
   "cell_type": "code",
   "execution_count": 76,
   "id": "96d0e204-eb2f-447d-bf81-267280a20504",
   "metadata": {},
   "outputs": [
    {
     "data": {
      "text/plain": [
       "(1, 0, -1, 0)"
      ]
     },
     "execution_count": 76,
     "metadata": {},
     "output_type": "execute_result"
    }
   ],
   "source": [
    "beta_check = alpha_check[1] + alpha_check[2]; beta_check"
   ]
  },
  {
   "cell_type": "markdown",
   "id": "76f54e8c-a47a-49eb-a0aa-69c0cb6a6193",
   "metadata": {},
   "source": [
    "Then we can define a generator $E_{\\beta^{\\vee}}^{(r)}$ using the function `positive_root_generator`. Its input is:\n",
    "<ul>\n",
    "    <li> <b> root </b> -- positive root $\\beta$, an element of `ambient_space()` (as above) </li>\n",
    "    <li> <b> degree </b> -- degree $r$ </li>\n",
    "    <li> <b> verbosity </b> -- (default : <b> False </b>) if `True`, print an explicit commutator realization (see below) </li>\n",
    "</ul>\n",
    "\n",
    "For negative root generators $F_{\\beta^{\\vee}}^{(r)}$, we use function `negative_root_generator` with the same input.\n",
    "\n",
    "We use the definition Remark 3.4 of [FKPRW]. Briefly, if $\\beta^{\\vee} = \\alpha^{\\vee}_{i_1} + \\ldots + \\alpha^{\\vee}_{i_l}$ is a decomposition into a sum of simple roots such that the commutator\n",
    "\n",
    "$[e_{i_l}, [e_{i_{l-1}}, [..., [e_{i_2}, e_{i_1}] ... ]]] \\in \\mathfrak{g}$\n",
    "\n",
    "is a non-zero element of $\\mathfrak{g}$ (here $e_{i_a}$ are the respective Chevalley generators), then we define \n",
    "\n",
    "$E_{\\beta^{\\vee}}^{(r)} = [E_{i_l}^{(1)}, [E_{i_{l-1}}^{(1)}, [ ..., [E_{i_2}^{(1)}, E_{i_1}^{(r)}] ... ]]]$\n",
    "\n",
    "Likewise, we define\n",
    "\n",
    "$F_{\\beta^{\\vee}}^{(r)} = [[[ ... [F_{i_1}^{(r)}, F_{i_2}^{(1)}], F_{i_3}^{(1)}], ..., F_{i_l}^{(1)}],$"
   ]
  },
  {
   "cell_type": "code",
   "execution_count": 77,
   "id": "478e04b2-f383-4a91-bac9-7423b5687c98",
   "metadata": {},
   "outputs": [
    {
     "name": "stdout",
     "output_type": "stream",
     "text": [
      "Explicit form: [E_1^(1),E_0^(1)]\n"
     ]
    },
    {
     "name": "stderr",
     "output_type": "stream",
     "text": [
      "/Users/art_kalm/sage/src/sage/categories/category_with_axiom.py:1799: UserWarning: Resolving lazy import FinitePosets during startup\n",
      "  assert getattr(base_category_class, axiom, None) is cls, \\\n"
     ]
    },
    {
     "data": {
      "text/plain": [
       "((p_0_0*p_1_0^2-p_1_0^2*p_1_1-p_0_0*p_1_0*p_2_0+p_1_0*p_1_1*p_2_0-1/2*p_0_0*p_1_0-1/2*p_1_0^2+1/2*p_1_0*p_1_1+1/2*p_1_0*p_2_0+1/4*p_1_0)/(p_1_0-p_1_1))*u_0_0^-1*u_1_0^-1 - ((p_0_0*p_1_1^2-p_1_0*p_1_1^2-p_0_0*p_1_1*p_2_0+p_1_0*p_1_1*p_2_0-1/2*p_0_0*p_1_1+1/2*p_1_0*p_1_1-1/2*p_1_1^2+1/2*p_1_1*p_2_0+1/4*p_1_1)/(p_1_0-p_1_1))*u_0_0^-1*u_1_1^-1"
      ]
     },
     "execution_count": 77,
     "metadata": {},
     "output_type": "execute_result"
    }
   ],
   "source": [
    "r = 1\n",
    "d_beta = G4.positive_root_generator(beta_check, r, verbosity=True); d_beta"
   ]
  },
  {
   "cell_type": "code",
   "execution_count": 78,
   "id": "1a7c95cd-e9eb-4ca8-84a1-4892e5da49db",
   "metadata": {},
   "outputs": [
    {
     "name": "stdout",
     "output_type": "stream",
     "text": [
      "Explicit form: [F_0^(1),F_1^(1)]\n"
     ]
    },
    {
     "data": {
      "text/plain": [
       "-(1/(p_1_0-p_1_1))*u_0_0*u_1_0 + (1/(p_1_0-p_1_1))*u_0_0*u_1_1"
      ]
     },
     "execution_count": 78,
     "metadata": {},
     "output_type": "execute_result"
    }
   ],
   "source": [
    "x_beta = G4.negative_root_generator(beta_check, r, verbosity=True); x_beta"
   ]
  },
  {
   "cell_type": "markdown",
   "id": "5d895f33-85eb-4de0-a223-6124a7c1224c",
   "metadata": {},
   "source": [
    "It follows from the Lax presentation in terms of oscillators in [FPT2022] that `d_beta` and `x_beta` should define a copy of the Weyl algebra inside $Y^{\\omega_2}_{w_0 \\omega_2}(\\mathfrak{sl}_4)$. Indeed,"
   ]
  },
  {
   "cell_type": "code",
   "execution_count": 79,
   "id": "63c20d7d-dd15-4c64-beae-b3ff427feb61",
   "metadata": {},
   "outputs": [
    {
     "data": {
      "text/plain": [
       "1"
      ]
     },
     "execution_count": 79,
     "metadata": {},
     "output_type": "execute_result"
    }
   ],
   "source": [
    "comm(d_beta, x_beta)"
   ]
  },
  {
   "cell_type": "markdown",
   "id": "8bbdd2f1-b1a8-4c64-b4b5-b1e929866125",
   "metadata": {},
   "source": [
    "In general, it follows from this presentation that should be true for all the positive roots $\\beta^{\\vee}$ such that $\\langle \\beta^{\\vee}, w_0 \\omega_i \\rangle < 0$. Let us define this set $\\Delta^+_{\\omega_2}$:"
   ]
  },
  {
   "cell_type": "code",
   "execution_count": 80,
   "id": "d5afe710-6c9d-4a37-877b-36a772dd41cc",
   "metadata": {},
   "outputs": [],
   "source": [
    "def oscillator_roots(coweight):\n",
    "    osc_roots = []\n",
    "    for beta_check in R0.ambient_space().positive_roots():\n",
    "        if beta_check.to_vector().dot_product(coweight.to_vector()) < 0:\n",
    "            osc_roots.append(beta_check)\n",
    "    return osc_roots"
   ]
  },
  {
   "cell_type": "code",
   "execution_count": 81,
   "id": "7939b1ae-ed80-4fa5-8e1a-d5b083773491",
   "metadata": {},
   "outputs": [
    {
     "data": {
      "text/plain": [
       "[(1, 0, -1, 0), (0, 1, -1, 0), (1, 0, 0, -1), (0, 1, 0, -1)]"
      ]
     },
     "execution_count": 81,
     "metadata": {},
     "output_type": "execute_result"
    }
   ],
   "source": [
    "osc_roots = oscillator_roots(w0.action(fw[2])); osc_roots"
   ]
  },
  {
   "cell_type": "markdown",
   "id": "c9749e5d-edae-46f9-b630-09ca527ed511",
   "metadata": {},
   "source": [
    "The Weyl algebra generators are given by\n",
    "\n",
    "$x_{\\beta^{\\vee}} = F_{\\beta^{\\vee}}^{(1)}, \\qquad \\partial_{\\beta^{\\vee}} = E_{\\beta^{\\vee}}^{(1)}$\n",
    "\n",
    "for $\\beta^{\\vee} \\in \\Delta_{\\omega_2}^+$. In particular, they should satisfy the defining commutation relation\n",
    "\n",
    "$[\\partial_{\\beta^{\\vee}}, x_{\\beta^{\\vee}}] = 1$.\n",
    "\n",
    "Let us check that. First, define the corresponding generators:"
   ]
  },
  {
   "cell_type": "code",
   "execution_count": 82,
   "id": "5d060614-073d-4634-b972-7fa0535946b0",
   "metadata": {},
   "outputs": [],
   "source": [
    "x_yangian = {}\n",
    "d_yangian = {}\n",
    "for beta_check in osc_roots:\n",
    "    d_yangian[beta_check] = G4.positive_root_generator(beta_check, 1)\n",
    "    x_yangian[beta_check] = G4.negative_root_generator(beta_check, 1)"
   ]
  },
  {
   "cell_type": "markdown",
   "id": "bde96d33-ec94-4534-a6d7-c5b7a87042d3",
   "metadata": {},
   "source": [
    "Let us check the defining commutation relation:"
   ]
  },
  {
   "cell_type": "code",
   "execution_count": 83,
   "id": "c5b89b2d-891b-4474-bd6f-e46b80f3d829",
   "metadata": {},
   "outputs": [
    {
     "name": "stdout",
     "output_type": "stream",
     "text": [
      "True\n"
     ]
    }
   ],
   "source": [
    "is_weyl = True\n",
    "for beta_check in osc_roots:\n",
    "      is_weyl = is_weyl & (comm(d_yangian[beta_check], x_yangian[beta_check]) == 1) \n",
    "print(is_weyl)"
   ]
  },
  {
   "cell_type": "markdown",
   "id": "e17ef206-1a4b-4c9a-87cb-1a66936d62d8",
   "metadata": {},
   "source": [
    "It holds! "
   ]
  },
  {
   "cell_type": "markdown",
   "id": "1fabdc67-3ff6-4e80-a236-5ab39365ac9e",
   "metadata": {},
   "source": [
    "One of consequences of the Lax matrix presentation is that all the other Yangian generators can be expressed via the Weyl algebra generators. For instance, let $\\Delta_{\\omega_2}^+ = \\{ \\beta^{\\vee} \\in \\Delta^+ |\\ \\langle \\beta^{\\vee}, w_0 \\omega_2 \\rangle < 0\\}$ be the set of oscillator roots from above. It follows from explicit formulas that\n",
    "\n",
    "$A_i^{(1)} - \\sum_{\\beta^{\\vee} \\in \\Delta_{\\omega_2}^+ \\colon\\ \\langle \\beta^{\\vee}, \\omega_i \\rangle > 0} x_{\\beta^{\\vee}} d_{\\beta^{\\vee}} = const$"
   ]
  },
  {
   "cell_type": "code",
   "execution_count": 84,
   "id": "e31a8a84-a281-4434-bb1a-a111b692ab9b",
   "metadata": {},
   "outputs": [],
   "source": [
    "def euler_element(i):\n",
    "    S = sum([x_yangian[beta_check]*d_yangian[beta_check] for beta_check in osc_roots if beta_check.to_vector().dot_product(fw[i+1].to_vector()) > 0])\n",
    "    return S"
   ]
  },
  {
   "cell_type": "code",
   "execution_count": 85,
   "id": "7f15f90a-b89c-4039-a76c-354a363228c1",
   "metadata": {},
   "outputs": [
    {
     "data": {
      "text/plain": [
       "3/2"
      ]
     },
     "execution_count": 85,
     "metadata": {},
     "output_type": "execute_result"
    }
   ],
   "source": [
    "i = 2\n",
    "G4.A(i,1) - euler_element(i)"
   ]
  },
  {
   "cell_type": "markdown",
   "id": "4d25659d-a378-42f2-ad4f-6916c0d924db",
   "metadata": {},
   "source": [
    "It works indeed!"
   ]
  }
 ],
 "metadata": {
  "kernelspec": {
   "display_name": "Python 3 (ipykernel)",
   "language": "python",
   "name": "python3"
  },
  "language_info": {
   "codemirror_mode": {
    "name": "ipython",
    "version": 3
   },
   "file_extension": ".py",
   "mimetype": "text/x-python",
   "name": "python",
   "nbconvert_exporter": "python",
   "pygments_lexer": "ipython3",
   "version": "3.13.7"
  }
 },
 "nbformat": 4,
 "nbformat_minor": 5
}
